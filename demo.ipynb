{
 "cells": [
  {
   "cell_type": "code",
   "execution_count": null,
   "id": "initial_id",
   "metadata": {
    "collapsed": true
   },
   "outputs": [],
   "source": [
    "! git clone https://github.com/95862888/ssd && cd ./ssd"
   ]
  },
  {
   "cell_type": "code",
   "execution_count": null,
   "outputs": [],
   "source": [
    "! pip install -r requirements.txt"
   ],
   "metadata": {
    "collapsed": false
   },
   "id": "b50744fffb930358"
  },
  {
   "cell_type": "markdown",
   "source": [
    "same dataset"
   ],
   "metadata": {
    "collapsed": false
   },
   "id": "860f98c08c47d271"
  },
  {
   "cell_type": "code",
   "execution_count": 1,
   "outputs": [
    {
     "name": "stdout",
     "output_type": "stream",
     "text": [
      "^C\r\n",
      "\u001B[31mERROR: Operation cancelled by user\u001B[0m\u001B[31m\r\n",
      "\u001B[0m\r\n",
      "\u001B[1m[\u001B[0m\u001B[34;49mnotice\u001B[0m\u001B[1;39;49m]\u001B[0m\u001B[39;49m A new release of pip is available: \u001B[0m\u001B[31;49m23.2.1\u001B[0m\u001B[39;49m -> \u001B[0m\u001B[32;49m23.3.2\u001B[0m\r\n",
      "\u001B[1m[\u001B[0m\u001B[34;49mnotice\u001B[0m\u001B[1;39;49m]\u001B[0m\u001B[39;49m To update, run: \u001B[0m\u001B[32;49mpip install --upgrade pip\u001B[0m\r\n"
     ]
    },
    {
     "name": "stderr",
     "output_type": "stream",
     "text": [
      "UsageError: Line magic function `%` not found.\n"
     ]
    }
   ],
   "source": [
    "! mkdir data\n",
    "% cd data\n",
    "! curl -L \"https://universe.roboflow.com/ds/yeqMCcg1JX?key=SMhaQsM0oy\" > roboflow.zip; unzip roboflow.zip; rm roboflow.zip\n",
    "% cd .."
   ],
   "metadata": {
    "collapsed": false,
    "ExecuteTime": {
     "end_time": "2023-12-17T21:04:15.461526185Z",
     "start_time": "2023-12-17T21:04:13.062596683Z"
    }
   },
   "id": "79bcda4a4aedcc99"
  },
  {
   "cell_type": "markdown",
   "source": [
    "ssd300 model with ResNet34 backbone. 22,114,292 training parameters."
   ],
   "metadata": {
    "collapsed": false
   },
   "id": "5b5891bafba4a5fe"
  },
  {
   "cell_type": "code",
   "execution_count": null,
   "outputs": [],
   "source": [
    "! python train.py"
   ],
   "metadata": {
    "collapsed": false,
    "ExecuteTime": {
     "end_time": "2023-12-17T20:23:32.764251737Z",
     "start_time": "2023-12-17T20:23:32.763594687Z"
    }
   },
   "id": "8297cb7c7debc138"
  },
  {
   "cell_type": "code",
   "execution_count": 2,
   "outputs": [
    {
     "name": "stdout",
     "output_type": "stream",
     "text": [
      "Validating\r\n",
      "100%|█████████████████████████████████████████| 135/135 [00:29<00:00,  4.57it/s]\r\n",
      "mAP_50: 99.000\r\n",
      "mAP_50_95: 85.070\r\n"
     ]
    }
   ],
   "source": [
    "! python eval.py"
   ],
   "metadata": {
    "collapsed": false,
    "ExecuteTime": {
     "end_time": "2023-12-18T05:43:18.597596916Z",
     "start_time": "2023-12-18T05:42:44.555401478Z"
    }
   },
   "id": "23b2db1a0a862c75"
  },
  {
   "cell_type": "code",
   "execution_count": 5,
   "outputs": [
    {
     "name": "stdout",
     "output_type": "stream",
     "text": [
      "Test instances: 8\r\n",
      "(640, 640, 3)\r\n",
      "Image 1 done...\r\n",
      "--------------------------------------------------\r\n",
      "(640, 640, 3)\r\n",
      "Image 2 done...\r\n",
      "--------------------------------------------------\r\n",
      "(416, 416, 3)\r\n",
      "Image 3 done...\r\n",
      "--------------------------------------------------\r\n",
      "(416, 416, 3)\r\n",
      "Image 4 done...\r\n",
      "--------------------------------------------------\r\n",
      "(640, 640, 3)\r\n",
      "Image 5 done...\r\n",
      "--------------------------------------------------\r\n",
      "(640, 640, 3)\r\n",
      "Image 6 done...\r\n",
      "--------------------------------------------------\r\n",
      "(256, 256, 3)\r\n",
      "Image 7 done...\r\n",
      "--------------------------------------------------\r\n",
      "(416, 416, 3)\r\n",
      "Image 8 done...\r\n",
      "--------------------------------------------------\r\n",
      "TEST PREDICTIONS COMPLETE\r\n",
      "Average FPS: 56.399\r\n"
     ]
    }
   ],
   "source": [
    "! python inference.py --input inference_img"
   ],
   "metadata": {
    "collapsed": false,
    "ExecuteTime": {
     "end_time": "2023-12-18T06:25:02.627732561Z",
     "start_time": "2023-12-18T06:24:58.993162613Z"
    }
   },
   "id": "650be83c71486247"
  },
  {
   "cell_type": "code",
   "execution_count": null,
   "outputs": [],
   "source": [
    "! python inference_video.py --input inference_videos/vecteezy_small-fire-with-lots-of-smoke_1804051.mp4 "
   ],
   "metadata": {
    "collapsed": false
   },
   "id": "35501b1631d765c4"
  }
 ],
 "metadata": {
  "kernelspec": {
   "display_name": "Python 3",
   "language": "python",
   "name": "python3"
  },
  "language_info": {
   "codemirror_mode": {
    "name": "ipython",
    "version": 2
   },
   "file_extension": ".py",
   "mimetype": "text/x-python",
   "name": "python",
   "nbconvert_exporter": "python",
   "pygments_lexer": "ipython2",
   "version": "2.7.6"
  }
 },
 "nbformat": 4,
 "nbformat_minor": 5
}
